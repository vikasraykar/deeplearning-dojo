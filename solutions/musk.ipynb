{
 "cells": [
  {
   "cell_type": "markdown",
   "id": "01a0eaac-23fb-43c0-b057-861f454ebeb9",
   "metadata": {},
   "source": [
    "# %% [markdown]\n",
    "\n",
    " # Can we predict Musk ?"
   ]
  },
  {
   "cell_type": "markdown",
   "id": "8bf65c50-127e-4b5e-80be-76a9498eeecc",
   "metadata": {},
   "source": [
    "# %% [markdown]\n",
    "\n",
    " ## What is musk ?\n",
    " [**Musk**](https://en.wikipedia.org/wiki/Musk) is a common ingredient used as a base note in\n",
    " lots of perfumes.\n",
    "\n",
    " It was originally obtained from a gland of musk deer.\n",
    "\n",
    " <img src=\"https://upload.wikimedia.org/wikipedia/commons/thumb/7/78/Naturalists_Library_-_Mammalia_-_Volume_III_-_The_Thibetian_Musk.jpg/500px-Naturalists_Library_-_Mammalia_-_Volume_III_-_The_Thibetian_Musk.jpg\" alt=\"musk deer\" width=\"400\"/>\n",
    "\n",
    " Since obtaining the deer\n",
    " musk requires killing the endangered animal, nearly all musk fragrance used in perfumery today\n",
    " is synthetic, sometimes called [*white musk*](https://en.wikipedia.org/wiki/Synthetic_musk).\n",
    "\n",
    " Synthetic musks are a class of synthetic aroma compounds to emulate the scent of deer musk.\n",
    "\n",
    " <img src=\"https://upload.wikimedia.org/wikipedia/commons/thumb/4/41/Musk_xylene.svg/500px-Musk_xylene.svg.png\" alt=\"musk xylene\" width=\"300\"/>"
   ]
  },
  {
   "cell_type": "markdown",
   "id": "e2953bb5-2def-4e53-af65-0d860b1ca7b8",
   "metadata": {},
   "source": [
    "# %% [markdown]\n",
    "\n",
    " ## Task description\n",
    "\n",
    " The goal is to learn to predict whether new molecules will be musks or non-musks.\n",
    "\n",
    " This dataset describes a set of **102 molecules** of which 39 are judged by human experts to be musks\n",
    " and the remaining 63 molecules are judged to be non-musks. The goal is to learn to predict\n",
    " whether new molecules will be musks or non-musks. Each molecule is described by a set of **166 features**.\n",
    "\n",
    " However, the 166 features that describe these molecules depend upon the exact shape,\n",
    " or conformation, of the molecule.  Because bonds can rotate, a single molecule can adopt\n",
    " many different shapes.  To generate this data set, all the low-energy conformations of the\n",
    " molecules were generated to produce **6,598 conformations**.  Then, a feature vector was extracted\n",
    " that describes each conformation.\n",
    "\n",
    " ### Ids\n",
    "\n",
    " `molecule-name` Symbolic name of each molecule.  Musks have names such as MUSK-188.\n",
    " Non-musks have names such as NON-MUSK-jp13.\n",
    "\n",
    " `conformation_name` - Symbolic name of each conformation.  These have the format MOL_ISO+CONF,\n",
    " where MOL is the molecule number, ISO is the stereoisomer number (usually 1), and CONF is the\n",
    " conformation number.\n",
    "\n",
    " ### Features\n",
    "\n",
    " `f1` through `f162`: These are *distance features* along rays.\n",
    "\n",
    " The distances are measured in hundredths of Angstroms.  The distances may be negative or positive,\n",
    " since they are actually measured relative to an origin placed along each ray.  The origin was\n",
    " defined by a \"consensus musk\" surface that is no longer used.\n",
    " Hence, any experiments with the data should treat these feature values as lying on an\n",
    " arbitrary continuous scale.  In particular, the algorithm should not make any use of the\n",
    " zero point or the sign of each feature value.\n",
    "\n",
    " `f163` This is the distance of the oxygen atom in the molecule to a designated point in 3-space.\n",
    "  This is also called OXY-DIS.\n",
    " `f164` OXY-X: X-displacement from the designated point.\n",
    " `f165` OXY-Y: Y-displacement from the designated point.\n",
    " `f166` OXY-Z: Z-displacement from the designated point.\n",
    "\n",
    " [dataset](https://archive.ics.uci.edu/dataset/75/musk+version+2)"
   ]
  },
  {
   "cell_type": "code",
   "execution_count": null,
   "id": "a53b422c-b466-47af-b8fd-fb02ac09bb2c",
   "metadata": {},
   "outputs": [],
   "source": [
    "# %%\n",
    "\n",
    "# ! pip install ucimlrepo\n",
    "\n",
    "from ucimlrepo import fetch_ucirepo\n",
    "\n",
    "# Fetch dataset.\n",
    "dataset = fetch_ucirepo(id=75)\n",
    "\n",
    "# Data (as pandas dataframes).\n",
    "X = dataset.data.features\n",
    "y = dataset.data.targets\n",
    "ids = dataset.data.ids\n",
    "\n",
    "display(ids)\n",
    "display(y)\n",
    "display(X)"
   ]
  }
 ],
 "metadata": {
  "language_info": {
   "codemirror_mode": {
    "name": "ipython",
    "version": 3
   },
   "file_extension": ".py",
   "mimetype": "text/x-python",
   "name": "python",
   "nbconvert_exporter": "python",
   "pygments_lexer": "ipython3",
   "version": 3
  }
 },
 "nbformat": 4,
 "nbformat_minor": 2
}
